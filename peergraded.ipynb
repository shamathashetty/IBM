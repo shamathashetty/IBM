{
 "cells": [
  {
   "cell_type": "markdown",
   "metadata": {},
   "source": [
    "# My Jupyter Notebook on IBM Watson Studio"
   ]
  },
  {
   "cell_type": "markdown",
   "metadata": {},
   "source": [
    "**shamatha shetty**\n",
    "\n",
    "Data scientist "
   ]
  },
  {
   "cell_type": "markdown",
   "metadata": {},
   "source": [
    "*I am interested in data science because it deals with real time problem*"
   ]
  },
  {
   "cell_type": "markdown",
   "metadata": {},
   "source": [
    "### Factorial of a number is a multiplication of all integers smaller than or equal to n using recursion"
   ]
  },
  {
   "cell_type": "code",
   "execution_count": 12,
   "metadata": {},
   "outputs": [
    {
     "data": {
      "text/plain": [
       "120"
      ]
     },
     "execution_count": 12,
     "metadata": {},
     "output_type": "execute_result"
    }
   ],
   "source": [
    "def fact(n):\n",
    "    if(n ==1 or n==0):\n",
    "        return 1\n",
    "    else:\n",
    "       return n*fact(n-1);\n",
    "fact(5)"
   ]
  },
  {
   "cell_type": "markdown",
   "metadata": {},
   "source": [
    "index |item |brand\n",
    "----|----|----\n",
    "0.|`soap`|~~LUX~~\n",
    "1.|`soap`|santoor"
   ]
  },
  {
   "cell_type": "markdown",
   "metadata": {},
   "source": [
    "horizontal rule\n",
    "***\n",
    "hello there\n",
    "____"
   ]
  },
  {
   "cell_type": "markdown",
   "metadata": {},
   "source": [
    "[Santoor](https://www.flipkart.com/santoor-sandal-turmeric-soap/p/itmfd7z2wjpuuhsy?pid=SOPEU6NPSYJRJZGZ&lid=LSTSOPEU6NPSYJRJZGZ00O29L&marketplace=GROCERY&store=g9b%2F5nz%2Fb1b%2Fyug&srno=b_1_1&otracker=browse&fm=organic&iid=e97805ba-ed7b-4045-8fa0-cac23c42a195.SOPEU6NPSYJRJZGZ.SEARCH&ppt=None&ppn=None&ssid=pr95fcnc2o0000001655970500242)\n",
    "\n",
    "[Lux](https://www.flipkart.com/beauty-and-grooming/bath-shower/bath-essentials/bath-soap/lux~brand/pr?sid=g9b%2C5nz%2Cb1b%2Cyug)"
   ]
  },
  {
   "cell_type": "code",
   "execution_count": null,
   "metadata": {},
   "outputs": [],
   "source": []
  }
 ],
 "metadata": {
  "kernelspec": {
   "display_name": "Python 3.9",
   "language": "python",
   "name": "python3"
  },
  "language_info": {
   "codemirror_mode": {
    "name": "ipython",
    "version": 3
   },
   "file_extension": ".py",
   "mimetype": "text/x-python",
   "name": "python",
   "nbconvert_exporter": "python",
   "pygments_lexer": "ipython3",
   "version": "3.9.7"
  }
 },
 "nbformat": 4,
 "nbformat_minor": 1
}
